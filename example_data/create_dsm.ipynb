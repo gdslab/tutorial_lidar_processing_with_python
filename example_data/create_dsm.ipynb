{
 "cells": [
  {
   "cell_type": "markdown",
   "metadata": {},
   "source": [
    "**Generate DSM**"
   ]
  },
  {
   "cell_type": "code",
   "execution_count": null,
   "metadata": {},
   "outputs": [],
   "source": [
    "import sys\n",
    "import os\n",
    "import laspy\n",
    "import numpy as np\n",
    "from osgeo import gdal\n",
    "import time\n",
    "from progressbar import ProgressBar"
   ]
  },
  {
   "cell_type": "code",
   "execution_count": null,
   "metadata": {},
   "outputs": [],
   "source": [
    "# Input files, parameters\n",
    "las_fn = './in2018_29651885_12_las13.las'\n",
    "dtm_fn = './in2018_29651885_12_dtm.img'\n",
    "dsm_fn = './in2018_29651885_12_dsm_2_5_ft.tif'\n",
    "# dsm_fn = './in2018_29651885_12_dsm_5_ft.tif'\n",
    "out_format = 'GTiff'\n",
    "# scale_factor = 2.0"
   ]
  },
  {
   "cell_type": "code",
   "execution_count": null,
   "metadata": {},
   "outputs": [],
   "source": [
    "# Open LiDAR file\n",
    "las = laspy.file.File(las_fn, mode='r')\n",
    "points = np.vstack((las.x, las.y, las.z)).transpose()\n",
    "num_points = points.shape[0]\n",
    "\n",
    "# Open DTM file\n",
    "dtm = gdal.Open(dtm_fn)"
   ]
  },
  {
   "cell_type": "code",
   "execution_count": null,
   "metadata": {},
   "outputs": [],
   "source": [
    "# Check data info\n",
    "dtmArray = dtm.ReadAsArray()\n",
    "nrow = dtmArray.shape[0]\n",
    "ncol = dtmArray.shape[1]\n",
    "print('nrow and ncol:', nrow, ncol)\n",
    "gt = dtm.GetGeoTransform()\n",
    "print('Geotransform:', gt)\n",
    "print('Cellsize(x,y):', gt[1], gt[5])"
   ]
  },
  {
   "cell_type": "markdown",
   "metadata": {},
   "source": [
    "**[Affine transform](http://resources.esri.com/help/9.3/arcgisengine/java/gp_toolref/coverage_tools/how_transform_coverage_works.htm)**\n",
    "\n",
    "\n",
    "Xgeo = gt[0]   +   (col \\* gt[1])   +   (row \\* gt[2])\n",
    "\n",
    "Ygeo = gt[3]   +   (col \\* gt[4])   +   (row \\* gt[5])"
   ]
  },
  {
   "cell_type": "code",
   "execution_count": null,
   "metadata": {},
   "outputs": [],
   "source": [
    "ul_x = gt[0]\n",
    "ul_y = gt[3]\n",
    "cs_x = gt[1]\n",
    "cs_y = gt[5]"
   ]
  },
  {
   "cell_type": "code",
   "execution_count": null,
   "metadata": {
    "scrolled": true
   },
   "outputs": [],
   "source": [
    "dtm.GetProjection()"
   ]
  },
  {
   "cell_type": "code",
   "execution_count": null,
   "metadata": {},
   "outputs": [],
   "source": [
    "nrow_out = nrow\n",
    "ncol_out = ncol\n",
    "# nrow_out = int(nrow/scale_factor)\n",
    "# ncol_out = int(ncol/scale_factor)\n",
    "cs_x_out = cs_x\n",
    "cs_y_out = cs_y\n",
    "# cs_x_out = cs_x * scale_factor\n",
    "# cs_y_out = cs_y * scale_factor\n",
    "gt_out = gt\n",
    "# gt_out = [ul_x, cs_x_out, gt[2], ul_y, gt[4], cs_y_out]"
   ]
  },
  {
   "cell_type": "code",
   "execution_count": null,
   "metadata": {},
   "outputs": [],
   "source": [
    "# Close las file\n",
    "las.close()"
   ]
  },
  {
   "cell_type": "code",
   "execution_count": null,
   "metadata": {
    "scrolled": true
   },
   "outputs": [],
   "source": [
    "start = time.time()\n",
    "\n",
    "# Initialize DSM array\n",
    "dsm = np.zeros((nrow_out, ncol_out), dtype=np.float32)\n",
    "\n",
    "pbar = ProgressBar()\n",
    "for i in pbar(range(num_points)):\n",
    "    # Get LiDAR point\n",
    "    p_x = points[i,0]\n",
    "    p_y = points[i,1]\n",
    "    p_z = points[i,2]\n",
    "    \n",
    "    # Get row, col index in image of the point\n",
    "    col = int((p_x - ul_x) / cs_x_out)\n",
    "    row = int((p_y - ul_y) / cs_y_out)\n",
    "    \n",
    "    # Check points outside DTM boundary\n",
    "    if col < 0 or col >= ncol_out:\n",
    "        print('x out of dtm boundary', p_x)\n",
    "        continue\n",
    "    if row < 0 or row >= nrow_out:\n",
    "        print('y out of dtm boundary', p_y)\n",
    "        continue\n",
    "\n",
    "    # Update DSM\n",
    "    if dsm[row, col] < p_z:\n",
    "        dsm[row, col] = p_z\n",
    "\n",
    "# Save output\n",
    "driver = gdal.GetDriverByName(out_format)\n",
    "dsm_ds = driver.Create(dsm_fn, xsize=ncol_out, ysize=nrow_out, bands=1, eType=gdal.GDT_Float32)\n",
    "dsm_ds.SetProjection(dtm.GetProjection())\n",
    "dsm_ds.SetGeoTransform(gt_out)\n",
    "dsm_ds.GetRasterBand(1).WriteArray(dsm)\n",
    "dsm_ds = None\n",
    "\n",
    "# Print elapsed time\n",
    "end = time.time()\n",
    "print('Elapsed time:', int(end - start))"
   ]
  }
 ],
 "metadata": {
  "kernelspec": {
   "display_name": "Python 3",
   "language": "python",
   "name": "python3"
  },
  "language_info": {
   "codemirror_mode": {
    "name": "ipython",
    "version": 3
   },
   "file_extension": ".py",
   "mimetype": "text/x-python",
   "name": "python",
   "nbconvert_exporter": "python",
   "pygments_lexer": "ipython3",
   "version": "3.6.12"
  }
 },
 "nbformat": 4,
 "nbformat_minor": 2
}
